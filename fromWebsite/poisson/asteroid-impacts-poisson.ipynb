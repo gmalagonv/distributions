{
 "cells": [
  {
   "cell_type": "markdown",
   "metadata": {},
   "source": [
    "# Introduction: Simulating Asteroid Impacts with a Poisson Process\n",
    "\n",
    "In this notebook, we will simulate impacts of Near Earth Asteroids on Earth using a Poisson process. Asteroid impacts can be modeled as a Poisson process because they are independent of one another, the chance of an impact occurring does not change over time, and two events (asteroid impacts) do not occur at the same time. We know the average time between impacts for each size of asteroid (we'll get into this) but not the exact time between impacts and moveover, one impact does not affect the chance of the next. \n",
    "\n",
    "We can use a Poisson Process model to calculate the expected number of impacts over an individual's life for each size of asteroid. We can also use the same model to calculate the expected waiting time between asteroid impacts. Although this model - like all models - is an approximation and the data are based on limited observations, we can still get real practice using a Poisson process.\n",
    "\n",
    "## Poisson Process and Poisson Distribution\n",
    "\n",
    "The Poisson Process and Poisson Distribution are explained in [this article](https://towardsdatascience.com/the-poisson-distribution-and-poisson-process-explained-4e2cb17d459). Basically, a Poisson process is an appropriate model for events that occur with limited frequency where we know the average frequency (or equivalently the average time between events). The Poisson Distribution allows us to calculate the expected number of events in a time period given the average time between events. The Poisson distribution is a special case of the Binomial Distribution where the number of trials is much greater than the expected number of successes. As asteroid impacts are relatively rare, this assumption fits well. For more on the Poisson Distribution, see [the Wikipedia article](https://en.wikipedia.org/wiki/Poisson_distribution#Basics). \n",
    "\n",
    "We'll get into the equations where needed and compare the theoretical values to our values derived from actual data and simulations. "
   ]
  },
  {
   "cell_type": "code",
   "execution_count": 1,
   "metadata": {
    "ExecuteTime": {
     "end_time": "2019-02-04T17:41:31.375799Z",
     "start_time": "2019-02-04T17:41:30.127000Z"
    }
   },
   "outputs": [
    {
     "data": {
      "text/html": [
       "        <script type=\"text/javascript\">\n",
       "        window.PlotlyConfig = {MathJaxConfig: 'local'};\n",
       "        if (window.MathJax) {MathJax.Hub.Config({SVG: {font: \"STIX-Web\"}});}\n",
       "        if (typeof require !== 'undefined') {\n",
       "        require.undef(\"plotly\");\n",
       "        requirejs.config({\n",
       "            paths: {\n",
       "                'plotly': ['https://cdn.plot.ly/plotly-2.4.2.min']\n",
       "            }\n",
       "        });\n",
       "        require(['plotly'], function(Plotly) {\n",
       "            window._Plotly = Plotly;\n",
       "        });\n",
       "        }\n",
       "        </script>\n",
       "        "
      ]
     },
     "metadata": {},
     "output_type": "display_data"
    },
    {
     "data": {
      "text/html": [
       "        <script type=\"text/javascript\">\n",
       "        window.PlotlyConfig = {MathJaxConfig: 'local'};\n",
       "        if (window.MathJax) {MathJax.Hub.Config({SVG: {font: \"STIX-Web\"}});}\n",
       "        if (typeof require !== 'undefined') {\n",
       "        require.undef(\"plotly\");\n",
       "        requirejs.config({\n",
       "            paths: {\n",
       "                'plotly': ['https://cdn.plot.ly/plotly-2.4.2.min']\n",
       "            }\n",
       "        });\n",
       "        require(['plotly'], function(Plotly) {\n",
       "            window._Plotly = Plotly;\n",
       "        });\n",
       "        }\n",
       "        </script>\n",
       "        "
      ]
     },
     "metadata": {},
     "output_type": "display_data"
    }
   ],
   "source": [
    "import pandas as pd\n",
    "import numpy as np\n",
    "\n",
    "# Options for pandas\n",
    "pd.options.display.max_columns = 20\n",
    "pd.options.display.max_rows = 10\n",
    "\n",
    "# Display all cell outputs\n",
    "from IPython.core.interactiveshell import InteractiveShell\n",
    "InteractiveShell.ast_node_interactivity = 'all'\n",
    "\n",
    "# Interactive plotting\n",
    "from chart_studio import plotly as py\n",
    "import plotly.graph_objs as go\n",
    "from plotly.offline import iplot, init_notebook_mode\n",
    "init_notebook_mode(connected=True)\n",
    "\n",
    "import cufflinks as cf\n",
    "cf.go_offline(connected=True)\n",
    "cf.set_config_file(theme='pearl')\n",
    "\n",
    "# Used for calculating theoretical value\n",
    "from scipy.special import factorial"
   ]
  },
  {
   "cell_type": "markdown",
   "metadata": {},
   "source": [
    "## Data on Asteroid Impacts\n",
    "\n",
    "Data on Asteroid impact frequency, impact energy, and number of asteroids is from the NASA 2017 Report of the Near Earth Object Science Definition Team. It is available [online here](https://cneos.jpl.nasa.gov/doc/2017_neo_sdt_final_e-version.pdf). The actual data on asteroid impacts is limited, so most of the numbers derived in the report are from simulations. \n",
    "\n",
    "#### Main Data Table\n",
    "\n",
    "The main data we'll use is shown in this table (we have it as a dataframe). To find out the units and meanings of all the columns, go to Table 2-1 in the linked report (on page 26). \n",
    "\n",
    "![](images/impact_frequency.PNG)\n",
    "\n",
    "The main column we are concerned with is the impact frequency $f(n) yr^{-1}$. This is the number of impacts per year for the size of asteroids indicated by $<D>$, the mean diameter in KM. This information is all we will need for a Poisson process! \n",
    "\n",
    "The average overall impact frequency for all asteriods is $1.66 x 10^{-9} yr^{-1}$. The rate $f(n) yr^{-1}$ per size category $<D>$ is calculated by multiplying this frequency by the number of objects in the category given by $<N(D_2-D_1)>$. \n",
    "\n",
    "According to the overall frequency rate, a single Near Earth Asteroid (NEA) will impact the Earth once in 600 million years. Or, if there are 600 million NEAs, there should be one collison every year. \n",
    "\n",
    "__Acronyms__\n",
    "\n",
    "* NEA: Near Earth Asteroid\n",
    "* NEO: Near Earth Object\n",
    "* PHA = Potentially Hazardous Asteroids\n",
    "\n",
    "With that basic background, let's look at the data."
   ]
  },
  {
   "cell_type": "code",
   "execution_count": 2,
   "metadata": {
    "ExecuteTime": {
     "end_time": "2019-02-04T17:41:31.910281Z",
     "start_time": "2019-02-04T17:41:31.378020Z"
    }
   },
   "outputs": [
    {
     "ename": "ImportError",
     "evalue": "Unable to find a usable engine; tried using: 'pyarrow', 'fastparquet'.\npyarrow or fastparquet is required for parquet support",
     "output_type": "error",
     "traceback": [
      "\u001b[0;31m---------------------------------------------------------------------------\u001b[0m",
      "\u001b[0;31mImportError\u001b[0m                               Traceback (most recent call last)",
      "\u001b[0;32m<ipython-input-2-92b6d918153c>\u001b[0m in \u001b[0;36m<module>\u001b[0;34m\u001b[0m\n\u001b[1;32m      2\u001b[0m \u001b[0;34m\u001b[0m\u001b[0m\n\u001b[1;32m      3\u001b[0m \u001b[0;31m# Read in the data\u001b[0m\u001b[0;34m\u001b[0m\u001b[0;34m\u001b[0m\u001b[0;34m\u001b[0m\u001b[0m\n\u001b[0;32m----> 4\u001b[0;31m \u001b[0mdf\u001b[0m \u001b[0;34m=\u001b[0m \u001b[0mpd\u001b[0m\u001b[0;34m.\u001b[0m\u001b[0mread_parquet\u001b[0m\u001b[0;34m(\u001b[0m\u001b[0;34m'https://github.com/WillKoehrsen/Data-Analysis/blob/master/poisson/data/asteroid-impact-data-cleaned?raw=true'\u001b[0m\u001b[0;34m)\u001b[0m\u001b[0;34m\u001b[0m\u001b[0;34m\u001b[0m\u001b[0m\n\u001b[0m\u001b[1;32m      5\u001b[0m \u001b[0mdf\u001b[0m\u001b[0;34m.\u001b[0m\u001b[0mhead\u001b[0m\u001b[0;34m(\u001b[0m\u001b[0;34m)\u001b[0m\u001b[0;34m\u001b[0m\u001b[0;34m\u001b[0m\u001b[0m\n",
      "\u001b[0;32m~/anaconda3/lib/python3.7/site-packages/pandas/io/parquet.py\u001b[0m in \u001b[0;36mread_parquet\u001b[0;34m(path, engine, columns, **kwargs)\u001b[0m\n\u001b[1;32m    307\u001b[0m     \"\"\"\n\u001b[1;32m    308\u001b[0m \u001b[0;34m\u001b[0m\u001b[0m\n\u001b[0;32m--> 309\u001b[0;31m     \u001b[0mimpl\u001b[0m \u001b[0;34m=\u001b[0m \u001b[0mget_engine\u001b[0m\u001b[0;34m(\u001b[0m\u001b[0mengine\u001b[0m\u001b[0;34m)\u001b[0m\u001b[0;34m\u001b[0m\u001b[0;34m\u001b[0m\u001b[0m\n\u001b[0m\u001b[1;32m    310\u001b[0m     \u001b[0;32mreturn\u001b[0m \u001b[0mimpl\u001b[0m\u001b[0;34m.\u001b[0m\u001b[0mread\u001b[0m\u001b[0;34m(\u001b[0m\u001b[0mpath\u001b[0m\u001b[0;34m,\u001b[0m \u001b[0mcolumns\u001b[0m\u001b[0;34m=\u001b[0m\u001b[0mcolumns\u001b[0m\u001b[0;34m,\u001b[0m \u001b[0;34m**\u001b[0m\u001b[0mkwargs\u001b[0m\u001b[0;34m)\u001b[0m\u001b[0;34m\u001b[0m\u001b[0;34m\u001b[0m\u001b[0m\n",
      "\u001b[0;32m~/anaconda3/lib/python3.7/site-packages/pandas/io/parquet.py\u001b[0m in \u001b[0;36mget_engine\u001b[0;34m(engine)\u001b[0m\n\u001b[1;32m     31\u001b[0m \u001b[0;34m\u001b[0m\u001b[0m\n\u001b[1;32m     32\u001b[0m         raise ImportError(\n\u001b[0;32m---> 33\u001b[0;31m             \u001b[0;34m\"Unable to find a usable engine; \"\u001b[0m\u001b[0;34m\u001b[0m\u001b[0;34m\u001b[0m\u001b[0m\n\u001b[0m\u001b[1;32m     34\u001b[0m             \u001b[0;34m\"tried using: 'pyarrow', 'fastparquet'.\\n\"\u001b[0m\u001b[0;34m\u001b[0m\u001b[0;34m\u001b[0m\u001b[0m\n\u001b[1;32m     35\u001b[0m             \u001b[0;34m\"pyarrow or fastparquet is required for parquet \"\u001b[0m\u001b[0;34m\u001b[0m\u001b[0;34m\u001b[0m\u001b[0m\n",
      "\u001b[0;31mImportError\u001b[0m: Unable to find a usable engine; tried using: 'pyarrow', 'fastparquet'.\npyarrow or fastparquet is required for parquet support"
     ]
    }
   ],
   "source": [
    "import warnings; warnings.filterwarnings('ignore', category=FutureWarning)\n",
    "\n",
    "# Read in the data\n",
    "df = pd.read_parquet('https://github.com/WillKoehrsen/Data-Analysis/blob/master/poisson/data/asteroid-impact-data-cleaned?raw=true')\n",
    "df.head()"
   ]
  },
  {
   "cell_type": "markdown",
   "metadata": {},
   "source": [
    "I've cleaned things up so we can understand each column. The impact frequency is in impacts per year. To get the average time between impacts, we can take $\\frac{1}{\\text{impact frequency}}$."
   ]
  },
  {
   "cell_type": "code",
   "execution_count": null,
   "metadata": {
    "ExecuteTime": {
     "end_time": "2019-02-04T17:41:31.936982Z",
     "start_time": "2019-02-04T17:41:31.912534Z"
    }
   },
   "outputs": [],
   "source": [
    "df['time_between_impacts'] = 1 / df['impact_frequency']\n",
    "df.head()"
   ]
  },
  {
   "cell_type": "markdown",
   "metadata": {},
   "source": [
    "# Data Exploration\n",
    "\n",
    "Before we get to modeling, we'll do a little exploration of the data. This is not strictly necessary, but it's a fun exercise."
   ]
  },
  {
   "cell_type": "markdown",
   "metadata": {},
   "source": [
    "### Impact Energy vs Diameter\n",
    "\n",
    "Let's make a plot of the impact energy by the diameter. The diameters are given in kilometers. Impact energy is in Megatons Equivalent of TNT. For comparison, the Little Boy bomb dropped on Hiroshima had 15 kilotons of TNT equivalent. The largest human bomb ever developed was about 100 Megatons. (See [this Wikipedia article](https://en.wikipedia.org/wiki/TNT_equivalent#Examples))"
   ]
  },
  {
   "cell_type": "code",
   "execution_count": null,
   "metadata": {
    "ExecuteTime": {
     "end_time": "2019-02-04T17:41:33.209857Z",
     "start_time": "2019-02-04T17:41:32.480923Z"
    }
   },
   "outputs": [],
   "source": [
    "df.set_index('range_diameter')['impact_energy'].iplot(kind='bar',\n",
    "                                                      layout=dict(yaxis=dict(title='Megatons Equivalent TNT'),\n",
    "                                                                 xaxis=dict(title='Diameters (KM)'),\n",
    "                                                      title=\"Impact Energy vs Diameter Log Scale\"))"
   ]
  },
  {
   "cell_type": "markdown",
   "metadata": {},
   "source": [
    "Here's the same graph with a log scale on the y axis."
   ]
  },
  {
   "cell_type": "code",
   "execution_count": null,
   "metadata": {
    "ExecuteTime": {
     "end_time": "2019-02-04T17:41:33.301223Z",
     "start_time": "2019-02-04T17:41:33.211563Z"
    }
   },
   "outputs": [],
   "source": [
    "df.set_index('range_diameter')['impact_energy'].iplot(kind='bar',\n",
    "                                                      layout=dict(yaxis=dict(type='log', title='Megatons Equivalent TNT'),\n",
    "                                                                 xaxis=dict(title='Range of Diameters (KM)'),\n",
    "                                                      title=\"Impact Energy vs Diameter Log Scale\"))"
   ]
  },
  {
   "cell_type": "markdown",
   "metadata": {},
   "source": [
    "The relationship between the size of an asteroid and the impact energy is almost exactly linear on a log scale. \n",
    "\n",
    "We can see that asteroids have some serious destructive potential. We can also look at some of the other columns, such as the number of asteroids in each size category."
   ]
  },
  {
   "cell_type": "markdown",
   "metadata": {},
   "source": [
    "### Number of Asteroid in Each Category"
   ]
  },
  {
   "cell_type": "code",
   "execution_count": null,
   "metadata": {
    "ExecuteTime": {
     "end_time": "2019-02-04T17:41:34.382463Z",
     "start_time": "2019-02-04T17:41:34.286656Z"
    }
   },
   "outputs": [],
   "source": [
    "df.set_index('range_diameter')['number'].iplot(kind='bar',\n",
    "                                                      layout=dict(yaxis=dict(title='Count'),\n",
    "                                                                 xaxis=dict(title='Diameter (KM)'),\n",
    "                                                      title=\"Number of Asteroids vs Diameter\"))"
   ]
  },
  {
   "cell_type": "markdown",
   "metadata": {},
   "source": [
    "Again, a log y axis is probably a better representation of the data."
   ]
  },
  {
   "cell_type": "code",
   "execution_count": null,
   "metadata": {
    "ExecuteTime": {
     "end_time": "2019-02-04T17:41:34.874784Z",
     "start_time": "2019-02-04T17:41:34.772034Z"
    }
   },
   "outputs": [],
   "source": [
    "df.set_index('range_diameter')['number'].iplot(kind='bar',\n",
    "                                                      layout=dict(yaxis=dict(type='log', title='Count'),\n",
    "                                                                 xaxis=dict(title='Diameter (KM)'),\n",
    "                                                      title=\"Number of Asteroids vs Diameter Log Scale\"))"
   ]
  },
  {
   "cell_type": "markdown",
   "metadata": {},
   "source": [
    "There are only 2 known NEA each in the 2 largest size categories. That's probably a good thing as these have the most desctructive potential! "
   ]
  },
  {
   "cell_type": "markdown",
   "metadata": {},
   "source": [
    "### Time Between Impacts"
   ]
  },
  {
   "cell_type": "code",
   "execution_count": null,
   "metadata": {
    "ExecuteTime": {
     "end_time": "2019-02-04T17:41:36.109470Z",
     "start_time": "2019-02-04T17:41:35.953308Z"
    }
   },
   "outputs": [],
   "source": [
    "df.set_index('range_diameter')['time_between_impacts'].iplot(kind='bar',\n",
    "                                                      layout=dict(yaxis=dict(title='Time between Impacts (yrs)'),\n",
    "                                                                 xaxis=dict(title='Diameter (KM)'),\n",
    "                                                      title=\"Time between Impacts vs Diameter Log Scale\"))"
   ]
  },
  {
   "cell_type": "code",
   "execution_count": null,
   "metadata": {
    "ExecuteTime": {
     "end_time": "2019-02-04T17:41:36.196329Z",
     "start_time": "2019-02-04T17:41:36.111291Z"
    }
   },
   "outputs": [],
   "source": [
    "df.set_index('range_diameter')['time_between_impacts'].iplot(kind='bar',\n",
    "                                                      layout=dict(yaxis=dict(type='log', title='Time between Impacts (yrs)'),\n",
    "                                                                 xaxis=dict(title='Diameter (KM)'),\n",
    "                                                      title=\"Time between Impacts vs Diameter Log Scale\"))"
   ]
  },
  {
   "cell_type": "markdown",
   "metadata": {},
   "source": [
    "The cell below is just for making colorscales in plotly."
   ]
  },
  {
   "cell_type": "code",
   "execution_count": null,
   "metadata": {
    "ExecuteTime": {
     "end_time": "2019-02-04T17:41:36.831396Z",
     "start_time": "2019-02-04T17:41:36.425424Z"
    }
   },
   "outputs": [],
   "source": [
    "import cmocean\n",
    "\n",
    "# Making colorscales\n",
    "def cmocean_to_plotly(cmap, pl_entries):\n",
    "    h = 1.0/(pl_entries-1)\n",
    "    pl_colorscale = []\n",
    "\n",
    "    for k in range(pl_entries):\n",
    "        C = list(map(np.uint8, np.array(cmap(k*h)[:3])*255))\n",
    "        pl_colorscale.append('rgb'+str((C[0], C[1], C[2])))\n",
    "\n",
    "    return pl_colorscale\n",
    "\n",
    "colorscales = {cmap_name: cmocean_to_plotly(cmap, len(df)) for cmap_name, cmap in cmocean.cm.cmap_d.items()}"
   ]
  },
  {
   "cell_type": "markdown",
   "metadata": {},
   "source": [
    "## Interactive Plot for Exploring Data\n",
    "\n",
    "Here is an interactive plot made with IPython widgets and plotly we can use for exploring the dataset. We are able to choose the variable to plot against the diameter range, whether or not to use a log scale, and the colorscale."
   ]
  },
  {
   "cell_type": "code",
   "execution_count": null,
   "metadata": {
    "ExecuteTime": {
     "end_time": "2019-02-04T17:41:37.297747Z",
     "start_time": "2019-02-04T17:41:36.878863Z"
    }
   },
   "outputs": [],
   "source": [
    "from ipywidgets import interact\n",
    "\n",
    "@interact\n",
    "def plot_by_diameter(cscale_name=list(colorscales.keys()), \n",
    "                     variable=['impact_frequency', 'impact_energy', 'time_between_impacts',\n",
    "                               'absolute_magnitude', 'number'],\n",
    "                    log=True):\n",
    "    \n",
    "    colors = colorscales[cscale_name]\n",
    "    \n",
    "    # Create the data to plot\n",
    "    data = [\n",
    "        go.Scatter(\n",
    "            x=[row['min_diameter'], row['max_diameter']],\n",
    "            y=[row[variable], row[variable]],\n",
    "            name=f'{row[\"diameter\"]:.3f} KM',\n",
    "            line=dict(color=colors[i]),\n",
    "        marker=dict(color=colors[i])) for i, row in df.iterrows()\n",
    "    ]\n",
    "\n",
    "    variable = variable.replace('_', ' ').title()\n",
    "    \n",
    "    # Setup the plot layout\n",
    "    layout = go.Layout(font=dict(size=16), width=900, height=700,\n",
    "        xaxis=dict(title='Diameter Range (KM)'),\n",
    "                      yaxis=dict(title=variable, \n",
    "                                 type='log' if log else 'linear'),\n",
    "                      title=f'Asteroid {variable} vs Range of Diameters')\n",
    "\n",
    "    # Make the plot and display\n",
    "    figure = go.Figure(data=data, layout=layout)\n",
    "    iplot(figure)"
   ]
  },
  {
   "cell_type": "markdown",
   "metadata": {},
   "source": [
    "# Asteroid Impact Simulation\n",
    "\n",
    "Now, let's get to work with the Poisson Process. Here we will run 10000 simluations of a human lifetime (at 100 years) and for each size of asteroid, calculate the expected number of impacts over a lifetime. \n",
    "\n",
    "For each size, we have the frequency in asteroids/year, which we can convert into the expected number of impacts by multiplying by the number of years in the period. This gives us $\\lambda$, the rate parameter of the Poisson Distribution. $\\lambda$ is best described as the expected number of events in the period. \n",
    "\n",
    "## Expected Number of Events in a Poisson Process\n",
    "\n",
    "The expected number of events is given by the following equation.\n",
    "\n",
    "$$P(n) = \\frac{(\\lambda)^n e^{-\\lambda}}{n!}$$\n",
    "\n",
    "Where $n$ is the number of events and $\\lambda$ is the rate parameter. We can think of the rate parameter as being a product of the frequency and the length of time:\n",
    "\n",
    "$$\\lambda = \\frac{events}{time} * {time}$$\n",
    "\n",
    "In our case, $\\frac{events}{time} = \\text{impact frequency}$ given in number of impacts per year.\n",
    "\n",
    "### Simulation in Python\n",
    "\n",
    "Actually running a Poisson Process simulation is simple in Python with the `np.random.poisson` function which takes an expected value (`lambda`) and a `size` and returns the counts in each process. If our size is 10,000, then it will give us the count of events in each of 10,000 simulations.  \n",
    "\n",
    "#### Simple Example\n",
    "\n",
    "To show how the equations work, we'll run a simple example first."
   ]
  },
  {
   "cell_type": "code",
   "execution_count": null,
   "metadata": {
    "ExecuteTime": {
     "end_time": "2019-02-04T17:41:37.338982Z",
     "start_time": "2019-02-04T17:41:37.333953Z"
    }
   },
   "outputs": [],
   "source": [
    "# Simulate 1 lifetime 10,000 times\n",
    "years = 100\n",
    "trials = 10_000\n",
    "\n",
    "# Extract the first frequency and calculate rate parameter\n",
    "freq = df['impact_frequency'].iloc[0]\n",
    "lam = freq * years\n",
    "\n",
    "# Run simulation\n",
    "impacts = np.random.poisson(lam, size=trials)\n",
    "impacts"
   ]
  },
  {
   "cell_type": "code",
   "execution_count": null,
   "metadata": {
    "ExecuteTime": {
     "end_time": "2019-02-04T17:41:37.343545Z",
     "start_time": "2019-02-04T17:41:37.340939Z"
    }
   },
   "outputs": [],
   "source": [
    "print(f'The most likely number of impacts is {lam:.2f}.')"
   ]
  },
  {
   "cell_type": "markdown",
   "metadata": {},
   "source": [
    "The best way to visualize the results is with a histogram showing the number of impacts in each simluation."
   ]
  },
  {
   "cell_type": "code",
   "execution_count": null,
   "metadata": {
    "ExecuteTime": {
     "end_time": "2019-02-04T17:41:37.862643Z",
     "start_time": "2019-02-04T17:41:37.764493Z"
    }
   },
   "outputs": [],
   "source": [
    "pd.DataFrame(impacts)[0].value_counts().iplot(kind='bar', \n",
    "                                               xTitle='Impacts', yTitle='Count', theme='white',\n",
    "                                              title=f\"Distribution of Impacts for {df['diameter'].iloc[0]} km Asteroids over 100 Years\")"
   ]
  },
  {
   "cell_type": "markdown",
   "metadata": {},
   "source": [
    "## All Asteroid Sizes\n",
    "\n",
    "We can quickly carry out the same procedure for all sizes of asteroids using numpy. In this cell, we get the number of impacts in 10,000 trials of 100 years for all asteroid sizes."
   ]
  },
  {
   "cell_type": "code",
   "execution_count": null,
   "metadata": {
    "ExecuteTime": {
     "end_time": "2019-02-04T17:41:38.231867Z",
     "start_time": "2019-02-04T17:41:38.220211Z"
    }
   },
   "outputs": [],
   "source": [
    "# Each trial is a human lifetime\n",
    "trials = 10000\n",
    "years = 100\n",
    "\n",
    "lambdas = years * df['impact_frequency'].values\n",
    "impacts = np.random.poisson(lambdas, size=(10000, len(lambdas)))\n",
    "impacts.shape"
   ]
  },
  {
   "cell_type": "markdown",
   "metadata": {},
   "source": [
    "We expect the average number of impacts for each asteroid size to be close to `lambda` for that asteriod size. The rate parameter is the expected number of events in the interval. "
   ]
  },
  {
   "cell_type": "code",
   "execution_count": null,
   "metadata": {
    "ExecuteTime": {
     "end_time": "2019-02-04T17:41:38.656483Z",
     "start_time": "2019-02-04T17:41:38.650395Z"
    }
   },
   "outputs": [],
   "source": [
    "impacts.mean(axis=0)\n",
    "lambdas"
   ]
  },
  {
   "cell_type": "markdown",
   "metadata": {},
   "source": [
    "### Observed and Theoretical Average Values\n",
    "\n",
    "To make sure we are on the right track, we can plot the observed average values and the theoretical average values for each size of asteroid. We expect the resulting averages to be relatively close."
   ]
  },
  {
   "cell_type": "code",
   "execution_count": null,
   "metadata": {
    "ExecuteTime": {
     "end_time": "2019-02-04T17:41:39.223384Z",
     "start_time": "2019-02-04T17:41:39.217528Z"
    }
   },
   "outputs": [],
   "source": [
    "def plot_mean_data_and_expected(impact_df, lambdas, years, ds=df['range_diameter'], log=False):\n",
    "    \"\"\"Plot the expected number of impacts and the observed average number of impacts\"\"\"\n",
    "    \n",
    "    # Extract the data for average number of impacts\n",
    "    observed = impact_df.mean(axis=0)\n",
    "    data = [go.Bar(dict(x=ds, y=observed, name='Observed')),\n",
    "            go.Bar(dict(x=ds, y=lambdas, name='Theoretical'))]\n",
    "    \n",
    "    # Set up the layout\n",
    "    layout = go.Layout(xaxis=dict(title='Diameter Range (km)'), margin=dict(b=100),\n",
    "                       yaxis=dict(title='Mean Impacts', type='log' if log else 'linear'),\n",
    "                       title=f'Simulated and Theoretical Average Asteroid Impacts in {years:,} Years')\n",
    "    \n",
    "    figure = go.Figure(data=data, layout=layout)\n",
    "    iplot(figure)"
   ]
  },
  {
   "cell_type": "markdown",
   "metadata": {},
   "source": [
    "If we take the average value across the 10,000 simulations, we come up with an estimated number of impacts per human lifetime. The estimated number from the simluations should be close to `lambda` for each impact frequency as `lambda` is the expected number of impacts (in other words, the most likely number of impacts).\n",
    "\n",
    "We can plot both the expected number of impacts and the average number of impacts from the simulations."
   ]
  },
  {
   "cell_type": "code",
   "execution_count": null,
   "metadata": {
    "ExecuteTime": {
     "end_time": "2019-02-04T17:41:39.711592Z",
     "start_time": "2019-02-04T17:41:39.634981Z"
    }
   },
   "outputs": [],
   "source": [
    "impact_df = pd.DataFrame(impacts, columns=df['range_diameter'])\n",
    "plot_mean_data_and_expected(impact_df, lambdas, years, ds=df['range_diameter'], log=False)"
   ]
  },
  {
   "cell_type": "markdown",
   "metadata": {},
   "source": [
    "The theoretical and observed values are in close agreement. We can see that the average number of impacts across a human lifetime is less than 1 for all asteroid sizes. \n",
    "\n",
    "This might be easier to view with a log scale y axis."
   ]
  },
  {
   "cell_type": "code",
   "execution_count": null,
   "metadata": {
    "ExecuteTime": {
     "end_time": "2019-02-04T17:41:40.177742Z",
     "start_time": "2019-02-04T17:41:40.089217Z"
    }
   },
   "outputs": [],
   "source": [
    "plot_mean_data_and_expected(impact_df, lambdas, years, ds=df['range_diameter'], log=True)"
   ]
  },
  {
   "cell_type": "markdown",
   "metadata": {},
   "source": [
    "You can expect an average of 0.46 impacts of the smallest asteroid in your lifetime and 0.23 of the next largest. For the largest asteroids, we observed 0 impacts even in 10,000 simulations which agree with the miniscule theoretical chances of around 1 in 1 billion."
   ]
  },
  {
   "cell_type": "markdown",
   "metadata": {},
   "source": [
    "Let's look at the maximum number of impacts per lifetime. This isn't exactly the best approach because if we increase the number of simulations, we would expect these numbers to increase. Nonetheless, it's fun to look at the worst-case scenarios.\n",
    "\n",
    "If you are extremely unlucky, you might see five asteroids impacts of the smallest variey! "
   ]
  },
  {
   "cell_type": "code",
   "execution_count": null,
   "metadata": {
    "ExecuteTime": {
     "end_time": "2019-02-04T17:41:41.191262Z",
     "start_time": "2019-02-04T17:41:41.005693Z"
    }
   },
   "outputs": [],
   "source": [
    "impact_df.max().iplot(kind='bar', xTitle='Diameter Range (km)', yTitle='Maximum Impacts',\n",
    "                      title='Maximum Number of Impacts per Human Lifetime')"
   ]
  },
  {
   "cell_type": "markdown",
   "metadata": {},
   "source": [
    "# Theoretical PMF\n",
    "\n",
    "To view all the Theoretical PMF, we simply evaluate the Poisson Distribution equation across the asteroid categories for a range of different number of events. What we are left with is the PMF for each size of asteroid."
   ]
  },
  {
   "cell_type": "code",
   "execution_count": null,
   "metadata": {
    "ExecuteTime": {
     "end_time": "2019-02-04T17:41:41.628772Z",
     "start_time": "2019-02-04T17:41:41.622657Z"
    }
   },
   "outputs": [],
   "source": [
    "# Number of impacts\n",
    "events = np.arange(0.25, impacts.max() + 10, 0.25)\n",
    "\n",
    "# Calculate the theoretical value for each size of asteroid\n",
    "theoretical = np.exp(-lambdas) * np.power(lambdas, events.reshape(-1, 1)) / factorial(events).reshape((-1, 1))\n",
    "theoretical.shape"
   ]
  },
  {
   "cell_type": "markdown",
   "metadata": {},
   "source": [
    "To visualize the Theoretical PMF, we'll put them all on the same plot. Each column is a different category of asteroids."
   ]
  },
  {
   "cell_type": "code",
   "execution_count": null,
   "metadata": {
    "ExecuteTime": {
     "end_time": "2019-02-04T17:41:42.415739Z",
     "start_time": "2019-02-04T17:41:42.064588Z"
    }
   },
   "outputs": [],
   "source": [
    "t_df = pd.DataFrame(theoretical, columns=df['diameter'].round(3), \n",
    "                    index=events)\n",
    "\n",
    "t_df.iplot(kind='scatter', mode='lines+markers', xTitle='Number of Events', size=6,\n",
    "           yTitle='Probability', title='Theoretical PMF for all Asteroid Sizes')"
   ]
  },
  {
   "cell_type": "markdown",
   "metadata": {},
   "source": [
    "This is pretty uninterseting since the most likely number of asteroids for all cases is 0. "
   ]
  },
  {
   "cell_type": "markdown",
   "metadata": {},
   "source": [
    "## Probability Mass Function for Each Asteroid Category\n",
    "\n",
    "As a useful visualization, we can look at the probability mass function for each size category. This is bascially a historgram of the number of events in each trial. \n",
    "\n",
    "For these, we'll show the theoretical curve derived from the Poisson Probability Mass Function (PMF because the number of events is discrete). The theoretical curve is derived from the equation discussed above, \n",
    "\n",
    "$$P(n) = \\frac{(\\lambda)^n e^{-\\lambda}}{n!}$$\n",
    "\n",
    "Where $\\lambda$ is the rate parameter derived by multiplying the frequency by the length of the time period."
   ]
  },
  {
   "cell_type": "code",
   "execution_count": null,
   "metadata": {
    "ExecuteTime": {
     "end_time": "2019-02-04T17:41:42.843084Z",
     "start_time": "2019-02-04T17:41:42.835572Z"
    },
    "code_folding": []
   },
   "outputs": [],
   "source": [
    "def plot_pmf_data_and_theoretical(df, impact_df, diameter, years):\n",
    "    \"\"\"Plot the observed and theoretical probability mass function (PMF)\"\"\"\n",
    "    \n",
    "    # Calculate lambda\n",
    "    freq = float(df.loc[df['diameter'] == diameter, 'impact_frequency'])\n",
    "    lam = freq * years\n",
    "    \n",
    "    diameter_range = (df.loc[df['diameter'] == diameter, 'range_diameter']).values[0]\n",
    "    \n",
    "    # Extract the data\n",
    "    data = 100 * impact_df[diameter_range].value_counts(normalize=True)\n",
    "    \n",
    "    max_events = impact_df[diameter_range].max() +  3\n",
    "    \n",
    "    # Number of events for theoretical distribution\n",
    "    num_events = np.arange(0, max_events, step=0.25)\n",
    "    \n",
    "    # Find the probability according to the Poisson PMF\n",
    "    prob_num_events = 100 * np.exp(-lam) * np.power(lam, num_events) / factorial(num_events)\n",
    "    \n",
    "    # Make the data\n",
    "    data = [go.Scatter(x=num_events, y=prob_num_events, \n",
    "                       mode='lines', name='Theoretical'), \n",
    "            go.Bar(dict(x=data.index, y=data.values, name='Observed', \n",
    "                              marker=dict(line=dict(width=2)))),\n",
    "                             ]\n",
    "    \n",
    "    # Set up the plot layout\n",
    "    layout = go.Layout(xaxis=dict(title='Number of Impacts'), \n",
    "                       yaxis=dict(title='Probability (%)'),\n",
    "                       title=f\"Observed and Theoretical PMF of Asteroid Impacts with Diameter {diameter} km over {years} Years\")\n",
    "    \n",
    "    figure = go.Figure(data=data, layout=layout)\n",
    "    iplot(figure)"
   ]
  },
  {
   "cell_type": "code",
   "execution_count": null,
   "metadata": {
    "ExecuteTime": {
     "end_time": "2019-02-04T17:41:42.982808Z",
     "start_time": "2019-02-04T17:41:42.844985Z"
    }
   },
   "outputs": [],
   "source": [
    "plot_pmf_data_and_theoretical(df, impact_df, 0.0224, years=years)"
   ]
  },
  {
   "cell_type": "code",
   "execution_count": null,
   "metadata": {
    "ExecuteTime": {
     "end_time": "2019-02-04T17:41:43.061476Z",
     "start_time": "2019-02-04T17:41:42.985062Z"
    }
   },
   "outputs": [],
   "source": [
    "plot_pmf_data_and_theoretical(df, impact_df, 0.0447, years=years)"
   ]
  },
  {
   "cell_type": "markdown",
   "metadata": {},
   "source": [
    "The simulated data agree nearly exactly with the data. Even for the smallest asteroids, the most likely number of impacts is zero."
   ]
  },
  {
   "cell_type": "markdown",
   "metadata": {},
   "source": [
    "## Function for Simulation\n",
    "\n",
    "Let's make this into a function we can use for any period of years and number of simulations."
   ]
  },
  {
   "cell_type": "code",
   "execution_count": null,
   "metadata": {
    "ExecuteTime": {
     "end_time": "2019-02-04T17:41:43.744095Z",
     "start_time": "2019-02-04T17:41:43.738596Z"
    }
   },
   "outputs": [],
   "source": [
    "def simulate_impacts(df, years, trials=10000):\n",
    "    \"\"\"Simulate a Poisson process for asteroid impacts\"\"\"\n",
    "    \n",
    "    np.random.seed(100)\n",
    "    \n",
    "    lambdas = years * df['impact_frequency'].values\n",
    "    impacts = np.random.poisson(lambdas, size=(trials, len(lambdas)))\n",
    "    \n",
    "    # Number of impacts\n",
    "    events = np.arange(0.25, impacts.max() + 10, 0.25)\n",
    "\n",
    "    # Calculate the theoretical value for each size of asteroid\n",
    "    theoretical = np.exp(-lambdas) * np.power(lambdas, events.reshape(-1, 1)) / factorial(events).reshape((-1, 1))\n",
    "    theoretical_df = pd.DataFrame(theoretical, columns=df['diameter'].round(3), \n",
    "                    index=events)\n",
    "    impact_df = pd.DataFrame(impacts, columns=df['range_diameter'])\n",
    "    return impact_df, lambdas, theoretical_df"
   ]
  },
  {
   "cell_type": "markdown",
   "metadata": {},
   "source": [
    "Now we can look at the theoretical number of impacts for all asteroid sizes for more years. This should result in more impacts."
   ]
  },
  {
   "cell_type": "code",
   "execution_count": null,
   "metadata": {
    "ExecuteTime": {
     "end_time": "2019-02-04T17:41:44.482630Z",
     "start_time": "2019-02-04T17:41:44.113316Z"
    }
   },
   "outputs": [],
   "source": [
    "years = 2500\n",
    "\n",
    "# Generate data\n",
    "impact_df, lambdas, theo = simulate_impacts(df, years, trials=10000)\n",
    "\n",
    "\n",
    "# Plot Theoretical PMF of impacts\n",
    "theo.iloc[:80].iplot(kind='scatter', mode='lines+markers', xTitle='Number of Events', size=6,\n",
    "           yTitle='Probability', title=f'Theoretical PMF for all Asteroid Sizes for {years} Years')"
   ]
  },
  {
   "cell_type": "markdown",
   "metadata": {},
   "source": [
    "Now, if we live 2500 years, we can expect significantly more asteroid impacts! "
   ]
  },
  {
   "cell_type": "code",
   "execution_count": null,
   "metadata": {
    "ExecuteTime": {
     "end_time": "2019-02-04T17:41:44.614503Z",
     "start_time": "2019-02-04T17:41:44.484219Z"
    }
   },
   "outputs": [],
   "source": [
    "plot_pmf_data_and_theoretical(df, impact_df, 0.0355, years=years)"
   ]
  },
  {
   "cell_type": "code",
   "execution_count": null,
   "metadata": {
    "ExecuteTime": {
     "end_time": "2019-02-04T17:41:44.684816Z",
     "start_time": "2019-02-04T17:41:44.616022Z"
    }
   },
   "outputs": [],
   "source": [
    "plot_pmf_data_and_theoretical(df, impact_df, 0.0224, years=years)"
   ]
  },
  {
   "cell_type": "markdown",
   "metadata": {},
   "source": [
    "# Asteroid Impacts for all of Human History\n",
    "\n",
    "Running a simulation for the length of one human life is interesting, but say we are concerned with the well-being of the entire human race. Let's increase the length of time to 2 million years, about as long as the genus Homo (See [this Wikipedia article](https://en.wikipedia.org/wiki/Homo)) has been around and calculate the resulting expected number of impacts. All this requires is increasing the number of years and running the simulation function again."
   ]
  },
  {
   "cell_type": "code",
   "execution_count": null,
   "metadata": {
    "ExecuteTime": {
     "end_time": "2019-02-04T17:41:44.953255Z",
     "start_time": "2019-02-04T17:41:44.948551Z"
    }
   },
   "outputs": [],
   "source": [
    "df['diameter'].iloc[20:]"
   ]
  },
  {
   "cell_type": "code",
   "execution_count": null,
   "metadata": {
    "ExecuteTime": {
     "end_time": "2019-02-04T17:41:45.003798Z",
     "start_time": "2019-02-04T17:41:44.955238Z"
    }
   },
   "outputs": [],
   "source": [
    "# Each simulation is the entire history of the genus homo\n",
    "trials = 10_000\n",
    "years = 2_000_000\n",
    "\n",
    "with warnings.catch_warnings():\n",
    "    warnings.simplefilter('ignore', category=RuntimeWarning)\n",
    "    impact_df, lambdas, theo = simulate_impacts(df, years, trials)"
   ]
  },
  {
   "cell_type": "markdown",
   "metadata": {},
   "source": [
    "Let's check the mean values against the theoretical (the expected number from lambda)."
   ]
  },
  {
   "cell_type": "code",
   "execution_count": null,
   "metadata": {
    "ExecuteTime": {
     "end_time": "2019-02-04T17:41:45.334437Z",
     "start_time": "2019-02-04T17:41:45.268004Z"
    }
   },
   "outputs": [],
   "source": [
    "plot_mean_data_and_expected(impact_df, lambdas, years)"
   ]
  },
  {
   "cell_type": "code",
   "execution_count": null,
   "metadata": {
    "ExecuteTime": {
     "end_time": "2019-02-04T17:41:45.401982Z",
     "start_time": "2019-02-04T17:41:45.335985Z"
    }
   },
   "outputs": [],
   "source": [
    "plot_mean_data_and_expected(impact_df, lambdas, years, log=True)"
   ]
  },
  {
   "cell_type": "markdown",
   "metadata": {},
   "source": [
    "Now let's see if there are any impacts of the largest asteroids in any of the simulations. Again, this is the maximum number of impacts in any simulation which we could artificially increase simply by running more simulations."
   ]
  },
  {
   "cell_type": "code",
   "execution_count": null,
   "metadata": {
    "ExecuteTime": {
     "end_time": "2019-02-04T17:41:45.662036Z",
     "start_time": "2019-02-04T17:41:45.572990Z"
    }
   },
   "outputs": [],
   "source": [
    "impact_df.max().iplot(kind='bar', xTitle='Diameter Range (km)', yTitle='Maximum Impacts',\n",
    "                      title='Maximum Impacts per 2 Million Years')"
   ]
  },
  {
   "cell_type": "markdown",
   "metadata": {},
   "source": [
    "We do see at least one occasion in 10,000 simulations where the largest asteroid hits. This shows how lucky we humans are to be here so show a little appreciation and kindness to your fellow Earthmates! \n",
    "\n",
    "### Simulated Data vs Theoretical \n",
    "\n",
    "Once again, we can plot the simluations of 2 million years versus the theoretical values."
   ]
  },
  {
   "cell_type": "code",
   "execution_count": null,
   "metadata": {
    "ExecuteTime": {
     "end_time": "2019-02-04T17:41:45.990512Z",
     "start_time": "2019-02-04T17:41:45.860543Z"
    }
   },
   "outputs": [],
   "source": [
    "plot_pmf_data_and_theoretical(df, impact_df, 1.780, years)"
   ]
  },
  {
   "cell_type": "code",
   "execution_count": null,
   "metadata": {
    "ExecuteTime": {
     "end_time": "2019-02-04T17:41:46.064331Z",
     "start_time": "2019-02-04T17:41:45.992157Z"
    }
   },
   "outputs": [],
   "source": [
    "plot_pmf_data_and_theoretical(df, impact_df, 2.82, years)"
   ]
  },
  {
   "cell_type": "markdown",
   "metadata": {},
   "source": [
    "### Theoretical Distribution\n",
    "\n",
    "We can again plot the theoretical Probability Mass Function for each asteroid size. While the most likely number of impacts is still zero for some sizes, we see a noticeable rightward shift in the graph as more impacts become more likely."
   ]
  },
  {
   "cell_type": "code",
   "execution_count": null,
   "metadata": {
    "ExecuteTime": {
     "end_time": "2019-02-04T17:41:46.569070Z",
     "start_time": "2019-02-04T17:41:46.182086Z"
    }
   },
   "outputs": [],
   "source": [
    "# Plot Theoretical PMF of impacts\n",
    "theo.iloc[:120].iplot(kind='scatter', mode='lines+markers', xTitle='Number of Events', size=6,\n",
    "           yTitle='Probability', title=f'Theoretical PMF for all Asteroid Sizes for {years} Years')"
   ]
  },
  {
   "cell_type": "markdown",
   "metadata": {},
   "source": [
    "# Time Between Asteroid Impacts\n",
    "\n",
    "Next, we'll look at the average number of years between asteroid impacts of different sizes. We'll simulate 100,000,000 (100 million) years and then find the average time between impacts for the different categories."
   ]
  },
  {
   "cell_type": "markdown",
   "metadata": {},
   "source": [
    "__Waiting Time Equation__\n",
    "\n",
    "The waiting time between events in a Poisson process is\n",
    "\n",
    "$$P(X > time) = e^{-\\frac{events}{time} * time}$$\n",
    "\n",
    "The $\\frac{events}{time}$ is the frequency of impacts. The probability of waiting an amount of time decreases exponentially as time increases."
   ]
  },
  {
   "cell_type": "markdown",
   "metadata": {},
   "source": [
    "In the cell below, we are simulation each year individually as a Bernoulli variable: either an asteroid hits or it does not. We repeat this 100 million times for each size of asteroid to simluate 100 million years. Then we find the time between asteroid impacts to derive the waiting time."
   ]
  },
  {
   "cell_type": "code",
   "execution_count": null,
   "metadata": {
    "ExecuteTime": {
     "end_time": "2019-02-04T17:41:47.164203Z",
     "start_time": "2019-02-04T17:41:46.981971Z"
    }
   },
   "outputs": [],
   "source": [
    "# Frequency for smallest asteroids\n",
    "freq = df['impact_frequency'].iloc[0]\n",
    "\n",
    "waiting_times = np.arange(0, 2500)\n",
    "p_waiting_times = np.exp(-freq * waiting_times)\n",
    "\n",
    "pd.DataFrame(p_waiting_times, index=waiting_times).iplot(kind='scatter', theme='solar',\n",
    "                                                         xTitle='Waiting Time (yrs)', yTitle='P (T > t)',\n",
    "                                                         title='Probability of Time between Impacts')"
   ]
  },
  {
   "cell_type": "code",
   "execution_count": null,
   "metadata": {
    "ExecuteTime": {
     "end_time": "2019-02-04T17:43:06.065500Z",
     "start_time": "2019-02-04T17:41:47.165762Z"
    }
   },
   "outputs": [],
   "source": [
    "np.random.seed(100)\n",
    "\n",
    "# Simulate 100 million years\n",
    "years = 100_000_000\n",
    "wait_times = {}\n",
    "\n",
    "# Simulate each year individually\n",
    "for freq, diameter in zip(df['impact_frequency'], df['range_diameter']):\n",
    "    # Each year is a bernoulli trial with probability of success equal to frequency\n",
    "    a = np.random.choice([0, 1], size=years, p=[1-freq, freq])\n",
    "    \n",
    "    # Find the time between impacts\n",
    "    wait_times[diameter] = np.diff(np.where(a == 1)[0])"
   ]
  },
  {
   "cell_type": "markdown",
   "metadata": {},
   "source": [
    "The wait times currently has the time between successive impacts for each size of asteroid."
   ]
  },
  {
   "cell_type": "code",
   "execution_count": null,
   "metadata": {
    "ExecuteTime": {
     "end_time": "2019-02-04T17:43:06.083962Z",
     "start_time": "2019-02-04T17:43:06.073095Z"
    }
   },
   "outputs": [],
   "source": [
    "wait_times['.0200–.0251']"
   ]
  },
  {
   "cell_type": "code",
   "execution_count": null,
   "metadata": {
    "ExecuteTime": {
     "end_time": "2019-02-04T17:43:06.233375Z",
     "start_time": "2019-02-04T17:43:06.086226Z"
    }
   },
   "outputs": [],
   "source": [
    "pd.DataFrame(wait_times['.0200–.0251'])[0].value_counts().iplot(kind='bar', xTitle='Waiting Time',\n",
    "                                                                yTitle='Counts', \n",
    "                                                                title='Observed Waiting Time between Impacts')"
   ]
  },
  {
   "cell_type": "code",
   "execution_count": null,
   "metadata": {
    "ExecuteTime": {
     "end_time": "2019-02-04T17:43:06.237726Z",
     "start_time": "2019-02-04T17:43:06.234636Z"
    }
   },
   "outputs": [],
   "source": [
    "wait_times['6.31–7.94']"
   ]
  },
  {
   "cell_type": "markdown",
   "metadata": {},
   "source": [
    "There are zero impacts in 100 million years in that category."
   ]
  },
  {
   "cell_type": "markdown",
   "metadata": {},
   "source": [
    "## Waiting Time Distribution\n",
    "\n",
    "Let's plot the distribution of wait times for a single size of asteroids. We'll use a simple histogram and we can compare the simulated values to the theoretical values."
   ]
  },
  {
   "cell_type": "code",
   "execution_count": null,
   "metadata": {
    "ExecuteTime": {
     "end_time": "2019-02-04T17:43:06.249358Z",
     "start_time": "2019-02-04T17:43:06.239531Z"
    }
   },
   "outputs": [],
   "source": [
    "def plot_wait_times_observed_and_theoretical(df, wait_times, diameter, binwidth=100, log=False):\n",
    "    \"\"\"Plot the expected waiting time observed and theoretical for asteroid impacts\"\"\"\n",
    "    \n",
    "    freq = float(df.loc[df['diameter'] == diameter, \n",
    "                        'impact_frequency'])\n",
    "    diameter_range = (df.loc[df['diameter'] == diameter, 'range_diameter']).values[0]\n",
    "    \n",
    "    # Extract the data and put into a dataframe\n",
    "    wt_df = pd.DataFrame({'wt': wait_times[diameter_range]})\n",
    "    \n",
    "    # Bins for dividing waiting times\n",
    "    bins = np.arange(0, max(wt_df['wt']), binwidth)\n",
    "    \n",
    "    # Create binned wait times\n",
    "    wt_df['binned_wait_time'] = pd.cut(wt_df['wt'], bins=bins)\n",
    "    # Count number in each bin and divide by the total\n",
    "    binned_df = wt_df.groupby('binned_wait_time').count() / len(wt_df)\n",
    "    \n",
    "    # Required for plotting\n",
    "    binned_df.index = binned_df.index.astype(str)\n",
    "\n",
    "    theoretical_binned_probs = []\n",
    "    wts = np.arange(0, bins.max() + 1, 1)\n",
    "\n",
    "    # Theoretical probabilities for each waiting time\n",
    "    theoretical_probs = np.exp(-freq * wts)\n",
    "    midpoints = []\n",
    "    \n",
    "    # Bin the theoretical waiting times\n",
    "    for x1, x2 in zip(bins[:-1], bins[1:]):\n",
    "         theoretical_binned_probs.append(100 * (theoretical_probs[wts == x1] - theoretical_probs[wts == x2])[0])\n",
    "         midpoints.append((x1 + x2) / 2)\n",
    "        \n",
    "    # Create the plot data\n",
    "    data = [go.Bar(x=binned_df.index if not log else midpoints, y=100 * binned_df['wt'], name='observed'),\n",
    "            go.Scatter(x=binned_df.index if not log else midpoints, y=theoretical_binned_probs, \n",
    "                       mode='markers+lines', \n",
    "                       name='Theoretical')]\n",
    "    # Set up the plot\n",
    "    layout = go.Layout(xaxis=dict(title='Waiting Time (years)', type='log' if log else 'category'),\n",
    "                       yaxis=dict(title='Probability (%)'), margin=dict(b=100),\n",
    "                       title=f\"Waiting Time between Asteroid Impacts for {diameter} KM Diameter\")\n",
    "\n",
    "    # Show the plot\n",
    "    figure = go.Figure(data=data, layout=layout)\n",
    "    iplot(figure)"
   ]
  },
  {
   "cell_type": "code",
   "execution_count": null,
   "metadata": {
    "ExecuteTime": {
     "end_time": "2019-02-04T17:43:06.399755Z",
     "start_time": "2019-02-04T17:43:06.252459Z"
    }
   },
   "outputs": [],
   "source": [
    "plot_wait_times_observed_and_theoretical(df, wait_times, 0.0224, binwidth=150, log=False)"
   ]
  },
  {
   "cell_type": "code",
   "execution_count": null,
   "metadata": {
    "ExecuteTime": {
     "end_time": "2019-02-04T17:43:06.494720Z",
     "start_time": "2019-02-04T17:43:06.400916Z"
    }
   },
   "outputs": [],
   "source": [
    "plot_wait_times_observed_and_theoretical(df, wait_times, 0.0355, binwidth=500)"
   ]
  },
  {
   "cell_type": "markdown",
   "metadata": {},
   "source": [
    "The theoretical and observed waiting time frequency distributions match up well. For all asteroid sizes, the mean waiting time is the 1 / frequency of impacts."
   ]
  },
  {
   "cell_type": "code",
   "execution_count": null,
   "metadata": {
    "ExecuteTime": {
     "end_time": "2019-02-04T17:43:06.579747Z",
     "start_time": "2019-02-04T17:43:06.496076Z"
    }
   },
   "outputs": [],
   "source": [
    "plot_wait_times_observed_and_theoretical(df, wait_times, 0.0708, binwidth=5000)"
   ]
  },
  {
   "cell_type": "markdown",
   "metadata": {},
   "source": [
    "## Mean Waiting Time \n",
    "\n",
    "The average weight time should be equal to the frequency of impact. We can plot the weight times and the time between impacts to determine if the observed values match the theoretical."
   ]
  },
  {
   "cell_type": "code",
   "execution_count": null,
   "metadata": {
    "ExecuteTime": {
     "end_time": "2019-02-04T17:43:06.872181Z",
     "start_time": "2019-02-04T17:43:06.580987Z"
    }
   },
   "outputs": [],
   "source": [
    "for key, values in wait_times.items():\n",
    "    df.loc[df['range_diameter'] == key, 'observed_time_between_impacts'] = values.mean()\n",
    "    \n",
    "df.set_index('range_diameter')[['time_between_impacts', 'observed_time_between_impacts']].iplot(kind='bar', \n",
    "                                                                                               layout=dict(yaxis=dict(type='log',\n",
    "                                                                                                                     title='Time Between Impacts (Years)'),\n",
    "                                                                                                          xaxis=dict(title='Diameter Range (KM)'),\n",
    "                                                                                                           margin=dict(b=120),\n",
    "                                                                                                          title='Average Time between Impacts'))"
   ]
  },
  {
   "cell_type": "markdown",
   "metadata": {
    "ExecuteTime": {
     "end_time": "2019-02-03T19:38:20.760439Z",
     "start_time": "2019-02-03T19:38:20.739116Z"
    }
   },
   "source": [
    "For most of the largest asteroid diameters, there were no waiting times because there were no or only one impact! This shows how rare these events are."
   ]
  },
  {
   "cell_type": "markdown",
   "metadata": {},
   "source": [
    "To view the most common impacts, we can use the `Counter` object from the `collections` library."
   ]
  },
  {
   "cell_type": "code",
   "execution_count": null,
   "metadata": {
    "ExecuteTime": {
     "end_time": "2019-02-04T17:43:06.918281Z",
     "start_time": "2019-02-04T17:43:06.873529Z"
    }
   },
   "outputs": [],
   "source": [
    "from collections import Counter\n",
    "counts = Counter(wait_times['.0251–.0316'])\n",
    "counts.most_common(10)"
   ]
  },
  {
   "cell_type": "code",
   "execution_count": null,
   "metadata": {
    "ExecuteTime": {
     "end_time": "2019-02-04T17:43:07.014007Z",
     "start_time": "2019-02-04T17:43:06.919650Z"
    }
   },
   "outputs": [],
   "source": [
    "counts = Counter(wait_times['.0200–.0251'])\n",
    "counts.most_common(10)"
   ]
  },
  {
   "cell_type": "markdown",
   "metadata": {},
   "source": [
    "# Interactive Analysis\n",
    "\n",
    "For the final part, we can put together a number of the functions in order to create an interactive analysis of asteroid impacts. We'll let the user choose the number of years, the number of simulations and then explore the results."
   ]
  },
  {
   "cell_type": "code",
   "execution_count": null,
   "metadata": {
    "ExecuteTime": {
     "end_time": "2019-02-04T17:43:07.057484Z",
     "start_time": "2019-02-04T17:43:07.015264Z"
    }
   },
   "outputs": [],
   "source": [
    "from ipywidgets import interact_manual\n",
    "\n",
    "@interact_manual\n",
    "def interactive_asteroid_impact_analysis(years=(1, 1000, 10), trials=(10, 100_000, 1_000),\n",
    "                                         diameter=list(df['diameter']),\n",
    "                                         log=False):\n",
    "    # Run simulation\n",
    "    impact_df, lambdas, theo = simulate_impacts(df, years, trials)\n",
    "    # Plot the average values and expected\n",
    "    plot_mean_data_and_expected(impact_df, lambdas, years, log=log)\n",
    "    \n",
    "    # Plot the theoretical nad obserebe PMF for the category of interest\n",
    "    plot_pmf_data_and_theoretical(df, impact_df, diameter, years)\n",
    "    # Plot Theoretical PMF of impacts\n",
    "    theo.iloc[:80].iplot(kind='scatter', mode='lines+markers', xTitle='Number of Events', size=6,\n",
    "           yTitle='Probability', title=f'Theoretical PMF for all Asteroid Sizes for {years} Years')"
   ]
  },
  {
   "cell_type": "markdown",
   "metadata": {},
   "source": [
    "# Conclusions\n",
    "\n",
    "In this notebook, we used a Poisson process to simulate asteroid impacts on Earth. Using a Poisson Process model and the Poisson Distribution, we are able to calculate the expected number of impacts over a time period and the waiting time between impacts. While this may be a somewhat theoretical exercise (because of the limited data), it shows how we can apply a statistical concept to arrive at plausible answers. Furthermore, it gives us a chance to get familiar with running simulations and comparing actual results to expected results from theory. Data science often involves comparing reality with theory and exercises like these can help us learn the basics and how to interpret the outcomes."
   ]
  },
  {
   "cell_type": "code",
   "execution_count": null,
   "metadata": {},
   "outputs": [],
   "source": []
  }
 ],
 "metadata": {
  "hide_input": false,
  "kernelspec": {
   "display_name": "Python 3",
   "language": "python",
   "name": "python3"
  },
  "language_info": {
   "codemirror_mode": {
    "name": "ipython",
    "version": 3
   },
   "file_extension": ".py",
   "mimetype": "text/x-python",
   "name": "python",
   "nbconvert_exporter": "python",
   "pygments_lexer": "ipython3",
   "version": "3.7.6"
  },
  "toc": {
   "base_numbering": 1,
   "nav_menu": {},
   "number_sections": true,
   "sideBar": true,
   "skip_h1_title": false,
   "title_cell": "Table of Contents",
   "title_sidebar": "Contents",
   "toc_cell": false,
   "toc_position": {},
   "toc_section_display": true,
   "toc_window_display": true
  },
  "varInspector": {
   "cols": {
    "lenName": 16,
    "lenType": 16,
    "lenVar": 40
   },
   "kernels_config": {
    "python": {
     "delete_cmd_postfix": "",
     "delete_cmd_prefix": "del ",
     "library": "var_list.py",
     "varRefreshCmd": "print(var_dic_list())"
    },
    "r": {
     "delete_cmd_postfix": ") ",
     "delete_cmd_prefix": "rm(",
     "library": "var_list.r",
     "varRefreshCmd": "cat(var_dic_list()) "
    }
   },
   "types_to_exclude": [
    "module",
    "function",
    "builtin_function_or_method",
    "instance",
    "_Feature"
   ],
   "window_display": false
  }
 },
 "nbformat": 4,
 "nbformat_minor": 2
}
